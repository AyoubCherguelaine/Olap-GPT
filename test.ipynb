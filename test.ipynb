{
 "cells": [
  {
   "cell_type": "code",
   "execution_count": 1,
   "metadata": {},
   "outputs": [],
   "source": [
    "from models.extractStruct import DatabaseRepresentation\n",
    "from OpenAiAssistant.QueryGenrator import DBAnalyzer"
   ]
  },
  {
   "cell_type": "code",
   "execution_count": 2,
   "metadata": {},
   "outputs": [],
   "source": [
    "dbr = DatabaseRepresentation('northwind.db')\n",
    "dbr.generate_db_representation()"
   ]
  },
  {
   "cell_type": "code",
   "execution_count": 3,
   "metadata": {},
   "outputs": [
    {
     "name": "stdout",
     "output_type": "stream",
     "text": [
      "Describtion or Explaine for each table:\n",
      "\"Categories(#CategoryID:INTEGER,CategoryName:TEXT,Description:TEXT,Picture:BLOB)\n",
      "\n",
      "sqlite_sequence(name:,seq:)\n",
      "\n",
      "CustomerCustomerDemo(#CustomerID:TEXT,$CustomerTypeID:TEXT)\n",
      "\n",
      "CustomerDemographics(#CustomerTypeID:TEXT,CustomerDesc:TEXT)\n",
      "\n",
      "Customers(#CustomerID:TEXT,CompanyName:TEXT,ContactName:TEXT,ContactTitle:TEXT,Address:TEXT,City:TEXT,Region:TEXT,PostalCode:TEXT,Country:TEXT,Phone:TEXT,Fax:TEXT)\n",
      "\n",
      "Employees(#EmployeeID:INTEGER,LastName:TEXT,FirstName:TEXT,Title:TEXT,TitleOfCourtesy:TEXT,BirthDate:DATE,HireDate:DATE,Address:TEXT,City:TEXT,Region:TEXT,PostalCode:TEXT,Country:TEXT,HomePhone:TEXT,Extension:TEXT,Photo:BLOB,Notes:TEXT,$ReportsTo:INTEGER,PhotoPath:TEXT)\n",
      "\n",
      "EmployeeTerritories(#EmployeeID:INTEGER,$TerritoryID:TEXT)\n",
      "\n",
      "Order Details(#OrderID:INTEGER,$ProductID:INTEGER,UnitPrice:NUMERIC,Quantity:INTEGER,Discount:REAL)\n",
      "\n",
      "Orders(#OrderID:INTEGER,$CustomerID:TEXT,$EmployeeID:INTEGER,OrderDate:DATETIME,RequiredDate:DATETIME,ShippedDate:DATETIME,$ShipVia:INTEGER,Freight:NUMERIC,ShipName:TEXT,ShipAddress:TEXT,ShipCity:TEXT,ShipRegion:TEXT,ShipPostalCode:TEXT,ShipCountry:TEXT)\n",
      "\n",
      "Products(#ProductID:INTEGER,ProductName:TEXT,$SupplierID:INTEGER,$CategoryID:INTEGER,QuantityPerUnit:TEXT,UnitPrice:NUMERIC,UnitsInStock:INTEGER,UnitsOnOrder:INTEGER,ReorderLevel:INTEGER,Discontinued:TEXT)\n",
      "\n",
      "Regions(#RegionID:INTEGER,RegionDescription:TEXT)\n",
      "\n",
      "Shippers(#ShipperID:INTEGER,CompanyName:TEXT,Phone:TEXT)\n",
      "\n",
      "Suppliers(#SupplierID:INTEGER,CompanyName:TEXT,ContactName:TEXT,ContactTitle:TEXT,Address:TEXT,City:TEXT,Region:TEXT,PostalCode:TEXT,Country:TEXT,Phone:TEXT,Fax:TEXT,HomePage:TEXT)\n",
      "\n",
      "Territories(#TerritoryID:TEXT,TerritoryDescription:TEXT,$RegionID:INTEGER)\"\n",
      "515\n"
     ]
    }
   ],
   "source": [
    "DBAnalyzer.AnalyseTables(dbr.db_representation)"
   ]
  },
  {
   "cell_type": "code",
   "execution_count": 4,
   "metadata": {},
   "outputs": [],
   "source": [
    "resp= \"\"\"{\n",
    "\"describe\": [\n",
    "{\n",
    "\"Categories\": \"Table for storing categories of products. It includes columns such as CategoryID (unique identifier), CategoryName, Description, and Picture.\"\n",
    "},\n",
    "{\n",
    "\"sqlite_sequence\": \"Table automatically created by SQLite to keep track of the sequence numbers for autoincrement columns in other tables.\"\n",
    "},\n",
    "{\n",
    "\"CustomerCustomerDemo\": \"Table for mapping customers to their corresponding customer demographics. It has columns such as CustomerID and CustomerTypeID.\"\n",
    "},\n",
    "{\n",
    "\"CustomerDemographics\": \"Table containing various customer demographics information. It includes columns like CustomerTypeID (unique identifier) and CustomerDesc.\"\n",
    "},\n",
    "{\n",
    "\"Customers\": \"Table storing information about customers. It includes columns like CustomerID (unique identifier), CompanyName, ContactName, ContactTitle, Address, City, Region, PostalCode, Country, Phone, and Fax.\"\n",
    "},\n",
    "{\n",
    "\"Employees\": \"Table containing information about employees. It has columns such as EmployeeID (unique identifier), LastName, FirstName, Title, TitleOfCourtesy, BirthDate, HireDate, Address, City, Region, PostalCode, Country, HomePhone, Extension, Photo, Notes, and ReportsTo.\"\n",
    "},\n",
    "{\n",
    "\"EmployeeTerritories\": \"Table for mapping employees to their assigned territories. It includes columns like EmployeeID and TerritoryID.\"\n",
    "},\n",
    "{\n",
    "\"Order Details\": \"Table storing details of each order. It includes columns such as OrderID, ProductID, UnitPrice, Quantity, and Discount.\"\n",
    "},\n",
    "{\n",
    "\"Orders\": \"Table containing information about orders. It includes columns like OrderID (unique identifier), CustomerID, EmployeeID, OrderDate, RequiredDate, ShippedDate, ShipVia, Freight, ShipName, ShipAddress, ShipCity, ShipRegion, ShipPostalCode, and ShipCountry.\"\n",
    "},\n",
    "{\n",
    "\"Products\": \"Table storing information about products. It includes columns like ProductID (unique identifier), ProductName, SupplierID, CategoryID, QuantityPerUnit, UnitPrice, UnitsInStock, UnitsOnOrder, ReorderLevel, and Discontinued.\"\n",
    "},\n",
    "{\n",
    "\"Regions\": \"Table containing information about regions. It has columns such as RegionID (unique identifier) and RegionDescription.\"\n",
    "},\n",
    "{\n",
    "\"Shippers\": \"Table storing information about shipping companies. It includes columns like ShipperID (unique identifier), CompanyName, and Phone.\"\n",
    "},\n",
    "{\n",
    "\"Suppliers\": \"Table containing information about suppliers. It includes columns like SupplierID (unique identifier), CompanyName, ContactName, ContactTitle, Address, City, Region, PostalCode, Country, Phone, Fax, and HomePage.\"\n",
    "},\n",
    "{\n",
    "\"Territories\": \"Table storing information about territories. It includes columns like TerritoryID (unique identifier), TerritoryDescription, and RegionID.\"\n",
    "}\n",
    "]\n",
    "}\"\"\""
   ]
  },
  {
   "cell_type": "code",
   "execution_count": 5,
   "metadata": {},
   "outputs": [],
   "source": [
    "import json\n",
    "\n",
    "def json_to_obj(json_str):\n",
    "    return json.loads(json_str)\n"
   ]
  },
  {
   "cell_type": "code",
   "execution_count": 6,
   "metadata": {},
   "outputs": [
    {
     "data": {
      "text/plain": [
       "{'describe': [{'Categories': 'Table for storing categories of products. It includes columns such as CategoryID (unique identifier), CategoryName, Description, and Picture.'},\n",
       "  {'sqlite_sequence': 'Table automatically created by SQLite to keep track of the sequence numbers for autoincrement columns in other tables.'},\n",
       "  {'CustomerCustomerDemo': 'Table for mapping customers to their corresponding customer demographics. It has columns such as CustomerID and CustomerTypeID.'},\n",
       "  {'CustomerDemographics': 'Table containing various customer demographics information. It includes columns like CustomerTypeID (unique identifier) and CustomerDesc.'},\n",
       "  {'Customers': 'Table storing information about customers. It includes columns like CustomerID (unique identifier), CompanyName, ContactName, ContactTitle, Address, City, Region, PostalCode, Country, Phone, and Fax.'},\n",
       "  {'Employees': 'Table containing information about employees. It has columns such as EmployeeID (unique identifier), LastName, FirstName, Title, TitleOfCourtesy, BirthDate, HireDate, Address, City, Region, PostalCode, Country, HomePhone, Extension, Photo, Notes, and ReportsTo.'},\n",
       "  {'EmployeeTerritories': 'Table for mapping employees to their assigned territories. It includes columns like EmployeeID and TerritoryID.'},\n",
       "  {'Order Details': 'Table storing details of each order. It includes columns such as OrderID, ProductID, UnitPrice, Quantity, and Discount.'},\n",
       "  {'Orders': 'Table containing information about orders. It includes columns like OrderID (unique identifier), CustomerID, EmployeeID, OrderDate, RequiredDate, ShippedDate, ShipVia, Freight, ShipName, ShipAddress, ShipCity, ShipRegion, ShipPostalCode, and ShipCountry.'},\n",
       "  {'Products': 'Table storing information about products. It includes columns like ProductID (unique identifier), ProductName, SupplierID, CategoryID, QuantityPerUnit, UnitPrice, UnitsInStock, UnitsOnOrder, ReorderLevel, and Discontinued.'},\n",
       "  {'Regions': 'Table containing information about regions. It has columns such as RegionID (unique identifier) and RegionDescription.'},\n",
       "  {'Shippers': 'Table storing information about shipping companies. It includes columns like ShipperID (unique identifier), CompanyName, and Phone.'},\n",
       "  {'Suppliers': 'Table containing information about suppliers. It includes columns like SupplierID (unique identifier), CompanyName, ContactName, ContactTitle, Address, City, Region, PostalCode, Country, Phone, Fax, and HomePage.'},\n",
       "  {'Territories': 'Table storing information about territories. It includes columns like TerritoryID (unique identifier), TerritoryDescription, and RegionID.'}]}"
      ]
     },
     "execution_count": 6,
     "metadata": {},
     "output_type": "execute_result"
    }
   ],
   "source": [
    "data = json_to_obj(resp)\n",
    "data"
   ]
  },
  {
   "cell_type": "code",
   "execution_count": 7,
   "metadata": {},
   "outputs": [
    {
     "data": {
      "text/plain": [
       "'{\"describe\": [{\"Categories\": \"Table for storing categories of products. It includes columns such as CategoryID (unique identifier), CategoryName, Description, and Picture.\"}, {\"sqlite_sequence\": \"Table automatically created by SQLite to keep track of the sequence numbers for autoincrement columns in other tables.\"}, {\"CustomerCustomerDemo\": \"Table for mapping customers to their corresponding customer demographics. It has columns such as CustomerID and CustomerTypeID.\"}, {\"CustomerDemographics\": \"Table containing various customer demographics information. It includes columns like CustomerTypeID (unique identifier) and CustomerDesc.\"}, {\"Customers\": \"Table storing information about customers. It includes columns like CustomerID (unique identifier), CompanyName, ContactName, ContactTitle, Address, City, Region, PostalCode, Country, Phone, and Fax.\"}, {\"Employees\": \"Table containing information about employees. It has columns such as EmployeeID (unique identifier), LastName, FirstName, Title, TitleOfCourtesy, BirthDate, HireDate, Address, City, Region, PostalCode, Country, HomePhone, Extension, Photo, Notes, and ReportsTo.\"}, {\"EmployeeTerritories\": \"Table for mapping employees to their assigned territories. It includes columns like EmployeeID and TerritoryID.\"}, {\"Order Details\": \"Table storing details of each order. It includes columns such as OrderID, ProductID, UnitPrice, Quantity, and Discount.\"}, {\"Orders\": \"Table containing information about orders. It includes columns like OrderID (unique identifier), CustomerID, EmployeeID, OrderDate, RequiredDate, ShippedDate, ShipVia, Freight, ShipName, ShipAddress, ShipCity, ShipRegion, ShipPostalCode, and ShipCountry.\"}, {\"Products\": \"Table storing information about products. It includes columns like ProductID (unique identifier), ProductName, SupplierID, CategoryID, QuantityPerUnit, UnitPrice, UnitsInStock, UnitsOnOrder, ReorderLevel, and Discontinued.\"}, {\"Regions\": \"Table containing information about regions. It has columns such as RegionID (unique identifier) and RegionDescription.\"}, {\"Shippers\": \"Table storing information about shipping companies. It includes columns like ShipperID (unique identifier), CompanyName, and Phone.\"}, {\"Suppliers\": \"Table containing information about suppliers. It includes columns like SupplierID (unique identifier), CompanyName, ContactName, ContactTitle, Address, City, Region, PostalCode, Country, Phone, Fax, and HomePage.\"}, {\"Territories\": \"Table storing information about territories. It includes columns like TerritoryID (unique identifier), TerritoryDescription, and RegionID.\"}]}'"
      ]
     },
     "execution_count": 7,
     "metadata": {},
     "output_type": "execute_result"
    }
   ],
   "source": [
    "json_string = json.dumps(data)\n",
    "json_string"
   ]
  },
  {
   "cell_type": "code",
   "execution_count": 8,
   "metadata": {},
   "outputs": [
    {
     "name": "stdout",
     "output_type": "stream",
     "text": [
      "From the DB Tables representation and Table Describtion\n",
      "Propose all OLAP Cubes can get from this \n",
      "respect this forma : {'cubes':[{'cube1':'describe'},{'cube2':'describe'}....]}\n",
      "\n",
      "14 46 504 532\n",
      "1096\n"
     ]
    }
   ],
   "source": [
    "DBAnalyzer.defineCubes(dbr.db_representation,json_string)"
   ]
  }
 ],
 "metadata": {
  "kernelspec": {
   "display_name": "Python 3",
   "language": "python",
   "name": "python3"
  },
  "language_info": {
   "codemirror_mode": {
    "name": "ipython",
    "version": 3
   },
   "file_extension": ".py",
   "mimetype": "text/x-python",
   "name": "python",
   "nbconvert_exporter": "python",
   "pygments_lexer": "ipython3",
   "version": "3.10.6"
  },
  "orig_nbformat": 4
 },
 "nbformat": 4,
 "nbformat_minor": 2
}
